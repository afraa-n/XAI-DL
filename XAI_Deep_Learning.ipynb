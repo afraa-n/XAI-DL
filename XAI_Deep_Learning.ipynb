{
  "nbformat": 4,
  "nbformat_minor": 0,
  "metadata": {
    "colab": {
      "provenance": [],
      "authorship_tag": "ABX9TyMrxiitdEkTcZNNPJMXZCff",
      "include_colab_link": true
    },
    "kernelspec": {
      "name": "python3",
      "display_name": "Python 3"
    },
    "language_info": {
      "name": "python"
    }
  },
  "cells": [
    {
      "cell_type": "markdown",
      "metadata": {
        "id": "view-in-github",
        "colab_type": "text"
      },
      "source": [
        "<a href=\"https://colab.research.google.com/github/afraa-n/XAI-DL/blob/main/XAI_Deep_Learning.ipynb\" target=\"_parent\"><img src=\"https://colab.research.google.com/assets/colab-badge.svg\" alt=\"Open In Colab\"/></a>"
      ]
    },
    {
      "cell_type": "markdown",
      "source": [
        "# Explainable Deep Learning Analysis: Understanding CNN Decision Patterns in MNIST Digit Classification\n",
        "**Name:** Afraa Noureen  \n",
        "\n",
        "## 1. Hypothesis\n",
        "\n",
        "**Null Hypothesis (H₀):** There is no significant difference in the sensitivity patterns of digits 6 and 8 when analyzed through occlusion-based saliency mapping.\n",
        "\n",
        "**Alternative Hypothesis (H₁):** The sensitivity patterns of digits 6 and 8 differ, with digit 8 demonstrating increased sensitivity in specific regions.\n",
        "\n",
        "---\n",
        "\n",
        "## 2. Approach Overview\n",
        "\n",
        "This assignment uses occlusion-based saliency mapping to analyze how a Convolutional Neural Network (CNN) processes and distinguishes between digits 6 and 8 in the MNIST dataset. The approach involves:\n",
        "\n",
        "1. Training a custom CNN architecture on MNIST\n",
        "2. Implementing occlusion saliency mapping\n",
        "3. Analyzing regional sensitivity patterns\n",
        "4. Statistical comparison of sensitivity distributions\n",
        "\n",
        "---\n",
        "\n",
        "## 3. Implementation Details\n",
        "\n",
        "### 3.1 Model Architecture"
      ],
      "metadata": {
        "id": "3JmsqKI5sPDz"
      }
    },
    {
      "cell_type": "code",
      "source": [
        "import torch\n",
        "import torch.nn as nn\n",
        "import torch.nn.functional as F\n",
        "from torchvision import datasets, transforms\n",
        "from torch.utils.data import DataLoader\n",
        "import numpy as np\n",
        "import matplotlib.pyplot as plt\n",
        "import seaborn as sns\n",
        "from tqdm import tqdm\n",
        "\n",
        "class SimpleCNN(nn.Module):\n",
        "    def __init__(self):\n",
        "        super(SimpleCNN, self).__init__()\n",
        "        self.conv1 = nn.Conv2d(1, 32, 3)\n",
        "        self.conv2 = nn.Conv2d(32, 64, 3)\n",
        "        self.fc1 = nn.Linear(64 * 5 * 5, 128)\n",
        "        self.fc2 = nn.Linear(128, 10)\n",
        "\n",
        "    def forward(self, x):\n",
        "        x = F.relu(self.conv1(x))\n",
        "        x = F.max_pool2d(x, 2)\n",
        "        x = F.relu(self.conv2(x))\n",
        "        x = F.max_pool2d(x, 2)\n",
        "        x = x.view(-1, 64 * 5 * 5)\n",
        "        x = F.relu(self.fc1(x))\n",
        "        x = self.fc2(x)\n",
        "        return x"
      ],
      "metadata": {
        "id": "Gje45ZWG7s4i"
      },
      "execution_count": 1,
      "outputs": []
    },
    {
      "cell_type": "markdown",
      "source": [
        "The architecture features two convolutional layers followed by max pooling and two fully connected layers, designed specifically for MNIST's 28x28 grayscale images."
      ],
      "metadata": {
        "id": "MUaqq4DYC2k9"
      }
    },
    {
      "cell_type": "markdown",
      "source": [
        "### 3.2 Data Preparation and Training"
      ],
      "metadata": {
        "id": "3sf7S5HY-xJu"
      }
    },
    {
      "cell_type": "code",
      "source": [
        "# Data loading function\n",
        "def load_mnist():\n",
        "    transform = transforms.Compose([\n",
        "        transforms.ToTensor(),\n",
        "    ])\n",
        "\n",
        "    train_dataset = datasets.MNIST('./data', train=True, download=True,\n",
        "                                 transform=transform)\n",
        "    test_dataset = datasets.MNIST('./data', train=False,\n",
        "                                transform=transform)\n",
        "\n",
        "    return DataLoader(train_dataset, batch_size=64, shuffle=True), \\\n",
        "           DataLoader(test_dataset, batch_size=64, shuffle=False)\n",
        "\n",
        "# Modified training function with cleaner output\n",
        "def train_model(model, train_loader, epochs=5):\n",
        "    optimizer = torch.optim.Adam(model.parameters())\n",
        "    criterion = nn.CrossEntropyLoss()\n",
        "\n",
        "    for epoch in range(epochs):\n",
        "        model.train()\n",
        "        total_loss = 0\n",
        "        for batch_idx, (data, target) in enumerate(train_loader):\n",
        "            optimizer.zero_grad()\n",
        "            output = model(data)\n",
        "            loss = criterion(output, target)\n",
        "            loss.backward()\n",
        "            optimizer.step()\n",
        "            total_loss += loss.item()\n",
        "\n",
        "        avg_loss = total_loss / len(train_loader)\n",
        "        print(f'Epoch {epoch + 1}/5 - Average Loss: {avg_loss:.4f}')"
      ],
      "metadata": {
        "id": "yRgj2KGh7tzH"
      },
      "execution_count": 2,
      "outputs": []
    },
    {
      "cell_type": "markdown",
      "source": [
        "### 3.3 Occlusion Saliency Implementation"
      ],
      "metadata": {
        "id": "fgOGpLsq-3_F"
      }
    },
    {
      "cell_type": "code",
      "source": [
        "def generate_occlusion_map(model, image, label, patch_size=10):\n",
        "    \"\"\"\n",
        "    Generate occlusion saliency map by systematically occluding image regions.\n",
        "\n",
        "    Args:\n",
        "        model: Trained CNN model\n",
        "        image: Input image tensor\n",
        "        label: Target class label\n",
        "        patch_size: Size of occlusion patch\n",
        "\n",
        "    Returns:\n",
        "        2D numpy array representing saliency map\n",
        "    \"\"\"\n",
        "    width, height = image.shape[2], image.shape[3]\n",
        "    saliency_map = np.zeros((width, height))\n",
        "\n",
        "    model.eval()\n",
        "    with torch.no_grad():\n",
        "        original_output = F.softmax(model(image), dim=1)[0, label].item()\n",
        "\n",
        "    for w in range(0, width - patch_size + 1, 2):\n",
        "        for h in range(0, height - patch_size + 1, 2):\n",
        "            occluded = image.clone()\n",
        "            occluded[0, 0, w:w+patch_size, h:h+patch_size] = 0\n",
        "\n",
        "            with torch.no_grad():\n",
        "                output = F.softmax(model(occluded), dim=1)[0, label].item()\n",
        "\n",
        "            sensitivity = original_output - output\n",
        "            saliency_map[w:w+patch_size, h:h+patch_size] += sensitivity\n",
        "\n",
        "    return saliency_map"
      ],
      "metadata": {
        "id": "WAZyy32d7zby"
      },
      "execution_count": 7,
      "outputs": []
    },
    {
      "cell_type": "markdown",
      "source": [
        "This implementation systematically occludes regions of the input image and measures the resulting change in classification confidence, creating a sensitivity map."
      ],
      "metadata": {
        "id": "Tm2kCma0C-R1"
      }
    },
    {
      "cell_type": "markdown",
      "source": [
        "---\n",
        "\n",
        "## 4. Results\n",
        "\n",
        "### 4.1 Model Training"
      ],
      "metadata": {
        "id": "b6wdS3ns--5L"
      }
    },
    {
      "cell_type": "code",
      "source": [
        "# Load data and train model\n",
        "train_loader, test_loader = load_mnist()\n",
        "model = SimpleCNN()\n",
        "train_model(model, train_loader)"
      ],
      "metadata": {
        "colab": {
          "base_uri": "https://localhost:8080/"
        },
        "id": "UuRvRxyf-_mC",
        "outputId": "8d56c59a-b24d-401c-b52e-9df8fd9b2e4d"
      },
      "execution_count": 4,
      "outputs": [
        {
          "output_type": "stream",
          "name": "stdout",
          "text": [
            "Epoch 1/5 - Average Loss: 0.1823\n",
            "Epoch 2/5 - Average Loss: 0.0542\n",
            "Epoch 3/5 - Average Loss: 0.0380\n",
            "Epoch 4/5 - Average Loss: 0.0273\n",
            "Epoch 5/5 - Average Loss: 0.0216\n"
          ]
        }
      ]
    },
    {
      "cell_type": "markdown",
      "source": [
        "The model shows steady convergence with decreasing loss values, indicating successful training.\n"
      ],
      "metadata": {
        "id": "y5_WwimdDbQK"
      }
    },
    {
      "cell_type": "markdown",
      "source": [
        "### 4.2 Regional Sensitivity Analysis Results\n",
        "\n",
        "We analyzed three key regions (top, middle, bottom) for both digits:"
      ],
      "metadata": {
        "id": "Exxaz_Kv_ER5"
      }
    },
    {
      "cell_type": "code",
      "source": [
        "# Regional Sensitivity Analysis\n",
        "digit_6 = None\n",
        "digit_8 = None\n",
        "label_6 = torch.tensor([6])\n",
        "label_8 = torch.tensor([8])\n",
        "\n",
        "for data, target in test_loader:\n",
        "  for i in range(len(target)):\n",
        "    if target[i] == 6 and digit_6 is None:\n",
        "      digit_6 = data[i:i+1]\n",
        "    elif target[i] == 8 and digit_8 is None:\n",
        "      digit_8 = data[i:i+1]\n",
        "  if digit_6 is not None and digit_8 is not None:\n",
        "    break\n",
        "\n",
        "# Generate saliency maps\n",
        "saliency_6 = generate_occlusion_map(model, digit_6, 6)\n",
        "saliency_8 = generate_occlusion_map(model, digit_8, 8)\n",
        "\n",
        "# Visualize results\n",
        "plt.figure(figsize=(15, 5))\n",
        "\n",
        "# Original digits\n",
        "plt.subplot(2, 3, 1)\n",
        "plt.title('Original Digit 6')\n",
        "plt.imshow(digit_6.squeeze(), cmap='gray')\n",
        "plt.axis('off')\n",
        "\n",
        "plt.subplot(2, 3, 4)\n",
        "plt.title('Original Digit 8')\n",
        "plt.imshow(digit_8.squeeze(), cmap='gray')\n",
        "plt.axis('off')\n",
        "\n",
        "# Saliency maps\n",
        "plt.subplot(2, 3, 2)\n",
        "plt.title('Saliency Map - Digit 6')\n",
        "plt.imshow(saliency_6, cmap='hot')\n",
        "plt.colorbar()\n",
        "plt.axis('off')\n",
        "\n",
        "plt.subplot(2, 3, 5)\n",
        "plt.title('Saliency Map - Digit 8')\n",
        "plt.imshow(saliency_8, cmap='hot')\n",
        "plt.colorbar()\n",
        "plt.axis('off')\n",
        "\n",
        "# Region analysis\n",
        "def analyze_regions(saliency_map):\n",
        "  height = saliency_map.shape[0]\n",
        "  region_height = height // 3\n",
        "  regions = {\n",
        "      'top': np.mean(saliency_map[:region_height, :]),\n",
        "      'middle': np.mean(saliency_map[region_height:2*region_height, :]),\n",
        "      'bottom': np.mean(saliency_map[2*region_height:, :])\n",
        "      }\n",
        "  return regions\n",
        "\n",
        "regions_6 = analyze_regions(saliency_6)\n",
        "regions_8 = analyze_regions(saliency_8)\n",
        "\n",
        "# Plot regional sensitivity comparison\n",
        "plt.subplot(2, 3, 3)\n",
        "plt.title('Regional Sensitivity Comparison')\n",
        "x = np.arange(3)\n",
        "width = 0.35\n",
        "\n",
        "plt.bar(x - width/2, list(regions_6.values()), width, label='Digit 6')\n",
        "plt.bar(x + width/2, list(regions_8.values()), width, label='Digit 8')\n",
        "plt.xticks(x, ['Top', 'Middle', 'Bottom'])\n",
        "plt.ylabel('Average Sensitivity')\n",
        "plt.legend()\n",
        "\n",
        "plt.tight_layout()\n",
        "plt.show()\n",
        "\n",
        "# Print numerical results\n",
        "print(\"\\nNumerical Results:\")\n",
        "print(\"\\nDigit 6 Regional Sensitivity:\")\n",
        "for region, value in regions_6.items():\n",
        "  print(f\"{region.capitalize()}: {value:.4f}\")\n",
        "print(\"\\nDigit 8 Regional Sensitivity:\")\n",
        "for region, value in regions_8.items():\n",
        "  print(f\"{region.capitalize()}: {value:.4f}\")\n",
        "\n",
        "# Statistical analysis\n",
        "from scipy import stats\n",
        "\n",
        "t_stat, p_value = stats.ttest_ind(\n",
        "    saliency_6.flatten(),\n",
        "    saliency_8.flatten()\n",
        "    )\n",
        "\n",
        "print(f\"\\nStatistical Analysis:\")\n",
        "print(f\"t-statistic: {t_stat:.4f}\")\n",
        "print(f\"p-value: {p_value:.4f}\")"
      ],
      "metadata": {
        "colab": {
          "base_uri": "https://localhost:8080/",
          "height": 751
        },
        "id": "2p6bsY6W_Fqc",
        "outputId": "2becb506-8c17-45e4-d89f-e52d8e21cab2"
      },
      "execution_count": 8,
      "outputs": [
        {
          "output_type": "display_data",
          "data": {
            "text/plain": [
              "<Figure size 1500x500 with 7 Axes>"
            ],
            "image/png": "[encoded data removed]"
          },
          "metadata": {}
        },
        {
          "output_type": "stream",
          "name": "stdout",
          "text": [
            "\n",
            "Numerical Results:\n",
            "\n",
            "Digit 6 Regional Sensitivity:\n",
            "Top: 0.1997\n",
            "Middle: 0.7985\n",
            "Bottom: 0.2181\n",
            "\n",
            "Digit 8 Regional Sensitivity:\n",
            "Top: 1.9607\n",
            "Middle: 8.3545\n",
            "Bottom: 1.3313\n",
            "\n",
            "Statistical Analysis:\n",
            "t-statistic: -17.8344\n",
            "p-value: 0.0000\n"
          ]
        }
      ]
    },
    {
      "cell_type": "markdown",
      "source": [
        "### 4.3 Understanding the Results\n",
        "\n",
        "1. **Regional Sensitivity Overview:**\n",
        "   - For **Digit 6**, the **middle region** shows the highest sensitivity at **0.7985**. This means that the model depends a lot on this central part of the digit to make its classification. The **bottom region** has a lower sensitivity of **0.2181**, while the **top region** is even less important, with a sensitivity of **0.1997**.\n",
        "   - On the other hand, **Digit 8** has a different pattern. The **middle region** has a much higher sensitivity of **8.3545**, indicating that this part is really important for the model’s recognition of this digit. The **top region** has a sensitivity of **1.9607**, and the **bottom region** sits at **1.3313**. While both of these areas matter, they are not nearly as critical as the middle region.\n",
        "\n",
        "2. **Statistical Significance:**\n",
        "   - The **t-statistic** is **-17.8344**, and the **p-value** is **0.0000**. This tells us there is a significant difference in regional sensitivities between digits 6 and 8. Since the p-value is much smaller than **0.05**, we can reject the null hypothesis. This supports our alternative hypothesis that the sensitivity patterns for digits 6 and 8 are different.\n",
        "\n",
        "### 4.4 Understanding the Visualizations\n",
        "\n",
        "The visualizations created during this analysis provide important information:\n",
        "\n",
        "1. **Original Images:** The original images of digits 6 and 8 from the MNIST dataset are clear, showing the features that the model needs to identify.\n",
        "\n",
        "2. **Saliency Maps:** The saliency maps point out which parts of the digits are most important for the model’s classification:\n",
        "   - For **Digit 6**, the saliency map highlights the **middle region**, which matches the higher sensitivity we found earlier.\n",
        "   - For **Digit 8**, the saliency map also focuses on the **middle region**, but with even more emphasis, which goes along with the high sensitivity value of **8.3545**.\n",
        "\n",
        "3. **Regional Comparison:** The bar chart compares the sensitivities of the different regions between the two digits, making it easy to see how the model views each digit.\n",
        "\n",
        "---\n",
        "\n",
        "### 5. Discussion and Conclusions\n",
        "\n",
        "1. **Statistical Significance:**\n",
        "   - The analysis shows that there is a significant difference in sensitivity patterns between digits 6 and 8, allowing us to reject the null hypothesis.\n",
        "\n",
        "2. **Pattern Analysis:**\n",
        "   - The results indicate that while both digits have high sensitivity in the middle region, **Digit 8** relies even more on this area for classification, as reflected in its much higher sensitivity values.\n",
        "\n",
        "3. **Key Findings:**\n",
        "   - This assignment shows that the CNN model processes digits 6 and 8 differently, which aligns with the structural differences between the two digits.\n",
        "   - The focus on the middle region for both digits suggests that this area contains key features needed for their classification, with **Digit 8** needing extra attention in this region.\n"
      ],
      "metadata": {
        "id": "AuL9VfjWCnDY"
      }
    }
  ]
}