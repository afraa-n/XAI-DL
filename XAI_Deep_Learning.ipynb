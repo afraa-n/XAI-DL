{
  "nbformat": 4,
  "nbformat_minor": 0,
  "metadata": {
    "colab": {
      "provenance": [],
      "authorship_tag": "ABX9TyOd6fRHOvvOSFh5+Rs8FOjd",
      "include_colab_link": true
    },
    "kernelspec": {
      "name": "python3",
      "display_name": "Python 3"
    },
    "language_info": {
      "name": "python"
    }
  },
  "cells": [
    {
      "cell_type": "markdown",
      "metadata": {
        "id": "view-in-github",
        "colab_type": "text"
      },
      "source": [
        "<a href=\"https://colab.research.google.com/github/afraa-n/XAI-DL/blob/main/XAI_Deep_Learning.ipynb\" target=\"_parent\"><img src=\"https://colab.research.google.com/assets/colab-badge.svg\" alt=\"Open In Colab\"/></a>"
      ]
    },
    {
      "cell_type": "markdown",
      "source": [
        "# Explainable Deep Learning: MNIST Digit Classification Analysis\n",
        "### Name: Afraa Noureen\n",
        "\n",
        "## 1. Introduction\n",
        "In this analysis, we explore the interpretability of deep learning models by examining how a CNN processes and distinguishes between digits 1 and 7 in the MNIST dataset. We use occlusion saliency mapping to understand which spatial regions are most important for the model's classification decisions.\n",
        "\n",
        "## 2. Hypothesis\n",
        "**Null Hypothesis (H0):** There is no significant difference in the spatial sensitivity patterns between digits 1 and 7 when analyzed using occlusion-based saliency mapping.\n",
        "\n",
        "**Alternative Hypothesis (H1):** There is a significant difference in the spatial sensitivity patterns between digits 1 and 7, specifically in the top region where digit 7 shows higher sensitivity due to its distinctive horizontal stroke.\n",
        "\n",
        "## 3. Methodology\n",
        "\n",
        "### 3.1 Model Architecture\n",
        "We implement a simple CNN architecture specifically designed for MNIST classification:\n"
      ],
      "metadata": {
        "id": "3JmsqKI5sPDz"
      }
    },
    {
      "cell_type": "code",
      "source": [
        "class SimpleCNN(nn.Module):\n",
        "    def __init__(self):\n",
        "        super(SimpleCNN, self).__init__()\n",
        "        self.conv1 = nn.Conv2d(1, 32, 3)\n",
        "        self.conv2 = nn.Conv2d(32, 64, 3)\n",
        "        self.fc1 = nn.Linear(64 * 5 * 5, 128)\n",
        "        self.fc2 = nn.Linear(128, 10)\n",
        "\n",
        "    def forward(self, x):\n",
        "        x = F.relu(self.conv1(x))\n",
        "        x = F.max_pool2d(x, 2)\n",
        "        x = F.relu(self.conv2(x))\n",
        "        x = F.max_pool2d(x, 2)\n",
        "        x = x.view(-1, 64 * 5 * 5)\n",
        "        x = F.relu(self.fc1(x))\n",
        "        x = self.fc2(x)\n",
        "        return x"
      ],
      "metadata": {
        "id": "Gje45ZWG7s4i"
      },
      "execution_count": 19,
      "outputs": []
    },
    {
      "cell_type": "markdown",
      "source": [
        "### 3.2 Data Preparation and Training"
      ],
      "metadata": {
        "id": "3sf7S5HY-xJu"
      }
    },
    {
      "cell_type": "code",
      "source": [
        "import torch\n",
        "import torch.nn as nn\n",
        "import torch.nn.functional as F\n",
        "from torchvision import datasets, transforms\n",
        "from torch.utils.data import DataLoader\n",
        "import numpy as np\n",
        "import matplotlib.pyplot as plt\n",
        "import seaborn as sns\n",
        "from tqdm import tqdm\n",
        "\n",
        "# Data loading function\n",
        "def load_mnist():\n",
        "    transform = transforms.Compose([\n",
        "        transforms.ToTensor(),\n",
        "    ])\n",
        "\n",
        "    train_dataset = datasets.MNIST('./data', train=True, download=True,\n",
        "                                 transform=transform)\n",
        "    test_dataset = datasets.MNIST('./data', train=False,\n",
        "                                transform=transform)\n",
        "\n",
        "    return DataLoader(train_dataset, batch_size=64, shuffle=True), \\\n",
        "           DataLoader(test_dataset, batch_size=64, shuffle=False)\n",
        "\n",
        "# Modified training function with cleaner output\n",
        "def train_model(model, train_loader, epochs=5):\n",
        "    optimizer = torch.optim.Adam(model.parameters())\n",
        "    criterion = nn.CrossEntropyLoss()\n",
        "\n",
        "    for epoch in range(epochs):\n",
        "        model.train()\n",
        "        total_loss = 0\n",
        "        for batch_idx, (data, target) in enumerate(train_loader):\n",
        "            optimizer.zero_grad()\n",
        "            output = model(data)\n",
        "            loss = criterion(output, target)\n",
        "            loss.backward()\n",
        "            optimizer.step()\n",
        "            total_loss += loss.item()\n",
        "\n",
        "        avg_loss = total_loss / len(train_loader)\n",
        "        print(f'Epoch {epoch + 1}/5 - Average Loss: {avg_loss:.4f}')"
      ],
      "metadata": {
        "id": "yRgj2KGh7tzH"
      },
      "execution_count": 20,
      "outputs": []
    },
    {
      "cell_type": "markdown",
      "source": [
        "### 3.3 Occlusion Saliency Implementation"
      ],
      "metadata": {
        "id": "fgOGpLsq-3_F"
      }
    },
    {
      "cell_type": "code",
      "source": [
        "def generate_occlusion_map(model, image, label, patch_size=5):\n",
        "    \"\"\"\n",
        "    Generate occlusion saliency map by systematically occluding image regions.\n",
        "\n",
        "    Args:\n",
        "        model: Trained CNN model\n",
        "        image: Input image tensor\n",
        "        label: Target class label\n",
        "        patch_size: Size of occlusion patch\n",
        "\n",
        "    Returns:\n",
        "        2D numpy array representing saliency map\n",
        "    \"\"\"\n",
        "    width, height = image.shape[2], image.shape[3]\n",
        "    saliency_map = np.zeros((width, height))\n",
        "\n",
        "    model.eval()\n",
        "    with torch.no_grad():\n",
        "        original_output = F.softmax(model(image), dim=1)[0, label].item()\n",
        "\n",
        "    for w in range(0, width - patch_size + 1, 2):\n",
        "        for h in range(0, height - patch_size + 1, 2):\n",
        "            occluded = image.clone()\n",
        "            occluded[0, 0, w:w+patch_size, h:h+patch_size] = 0\n",
        "\n",
        "            with torch.no_grad():\n",
        "                output = F.softmax(model(occluded), dim=1)[0, label].item()\n",
        "\n",
        "            sensitivity = original_output - output\n",
        "            saliency_map[w:w+patch_size, h:h+patch_size] += sensitivity\n",
        "\n",
        "    return saliency_map"
      ],
      "metadata": {
        "id": "WAZyy32d7zby"
      },
      "execution_count": 21,
      "outputs": []
    },
    {
      "cell_type": "markdown",
      "source": [
        "## 4. Results\n",
        "\n",
        "### 4.1 Model Training"
      ],
      "metadata": {
        "id": "b6wdS3ns--5L"
      }
    },
    {
      "cell_type": "code",
      "source": [
        "# Load data and train model\n",
        "train_loader, test_loader = load_mnist()\n",
        "model = SimpleCNN()\n",
        "train_model(model, train_loader)"
      ],
      "metadata": {
        "id": "UuRvRxyf-_mC",
        "outputId": "042d236c-3cb6-4550-dff9-5b6a2b28961c",
        "colab": {
          "base_uri": "https://localhost:8080/",
          "height": 0
        }
      },
      "execution_count": 22,
      "outputs": [
        {
          "output_type": "stream",
          "name": "stdout",
          "text": [
            "Epoch 1/5 - Average Loss: 0.1958\n",
            "Epoch 2/5 - Average Loss: 0.0539\n",
            "Epoch 3/5 - Average Loss: 0.0377\n",
            "Epoch 4/5 - Average Loss: 0.0275\n",
            "Epoch 5/5 - Average Loss: 0.0222\n"
          ]
        }
      ]
    },
    {
      "cell_type": "markdown",
      "source": [
        "### 4.2 Regional Sensitivity Analysis\n",
        "\n",
        "We analyzed three key regions (top, middle, bottom) for both digits:"
      ],
      "metadata": {
        "id": "Exxaz_Kv_ER5"
      }
    },
    {
      "cell_type": "code",
      "source": [
        "# Occlusion saliency map function\n",
        "def generate_occlusion_map(model, image, label, patch_size=5):\n",
        "    \"\"\"\n",
        "    Generate occlusion saliency map by systematically occluding parts of the image\n",
        "    and measuring the change in classification confidence.\n",
        "    \"\"\"\n",
        "    width, height = image.shape[2], image.shape[3]\n",
        "    saliency_map = np.zeros((width, height))\n",
        "\n",
        "    # Get original prediction confidence\n",
        "    model.eval()\n",
        "    with torch.no_grad():\n",
        "        original_output = F.softmax(model(image), dim=1)[0, label].item()\n",
        "\n",
        "    # Slide occlusion patch across image\n",
        "    for w in range(0, width - patch_size + 1, 2):\n",
        "        for h in range(0, height - patch_size + 1, 2):\n",
        "            # Create occluded image\n",
        "            occluded = image.clone()\n",
        "            occluded[0, 0, w:w+patch_size, h:h+patch_size] = 0\n",
        "\n",
        "            # Get new prediction\n",
        "            with torch.no_grad():\n",
        "                output = F.softmax(model(occluded), dim=1)[0, label].item()\n",
        "\n",
        "            # Calculate sensitivity\n",
        "            sensitivity = original_output - output\n",
        "            saliency_map[w:w+patch_size, h:h+patch_size] += sensitivity\n",
        "\n",
        "    return saliency_map\n",
        "\n",
        "# Regional Sensitivity Analysis\n",
        "digit_1 = None\n",
        "digit_7 = None\n",
        "label_1 = torch.tensor([1])\n",
        "label_7 = torch.tensor([7])\n",
        "\n",
        "for data, target in test_loader:\n",
        "  for i in range(len(target)):\n",
        "    if target[i] == 1 and digit_1 is None:\n",
        "      digit_1 = data[i:i+1]\n",
        "    elif target[i] == 7 and digit_7 is None:\n",
        "      digit_7 = data[i:i+1]\n",
        "  if digit_1 is not None and digit_7 is not None:\n",
        "    break\n",
        "\n",
        "# Generate saliency maps\n",
        "saliency_1 = generate_occlusion_map(model, digit_1, 1)\n",
        "saliency_7 = generate_occlusion_map(model, digit_7, 7)\n",
        "\n",
        "# Visualize results\n",
        "plt.figure(figsize=(15, 5))\n",
        "\n",
        "# Original digits\n",
        "plt.subplot(2, 3, 1)\n",
        "plt.title('Original Digit 1')\n",
        "plt.imshow(digit_1.squeeze(), cmap='gray')\n",
        "plt.axis('off')\n",
        "\n",
        "plt.subplot(2, 3, 4)\n",
        "plt.title('Original Digit 7')\n",
        "plt.imshow(digit_7.squeeze(), cmap='gray')\n",
        "plt.axis('off')\n",
        "\n",
        "# Saliency maps\n",
        "plt.subplot(2, 3, 2)\n",
        "plt.title('Saliency Map - Digit 1')\n",
        "plt.imshow(saliency_1, cmap='hot')\n",
        "plt.colorbar()\n",
        "plt.axis('off')\n",
        "\n",
        "plt.subplot(2, 3, 5)\n",
        "plt.title('Saliency Map - Digit 7')\n",
        "plt.imshow(saliency_7, cmap='hot')\n",
        "plt.colorbar()\n",
        "plt.axis('off')\n",
        "\n",
        "# Region analysis\n",
        "def analyze_regions(saliency_map):\n",
        "  height = saliency_map.shape[0]\n",
        "  region_height = height // 3\n",
        "  regions = {\n",
        "      'top': np.mean(saliency_map[:region_height, :]),\n",
        "      'middle': np.mean(saliency_map[region_height:2*region_height, :]),\n",
        "      'bottom': np.mean(saliency_map[2*region_height:, :])\n",
        "      }\n",
        "  return regions\n",
        "\n",
        "regions_1 = analyze_regions(saliency_1)\n",
        "regions_7 = analyze_regions(saliency_7)\n",
        "\n",
        "# Plot regional sensitivity comparison\n",
        "plt.subplot(2, 3, 3)\n",
        "plt.title('Regional Sensitivity Comparison')\n",
        "x = np.arange(3)\n",
        "width = 0.35\n",
        "\n",
        "plt.bar(x - width/2, list(regions_1.values()), width, label='Digit 1')\n",
        "plt.bar(x + width/2, list(regions_7.values()), width, label='Digit 7')\n",
        "plt.xticks(x, ['Top', 'Middle', 'Bottom'])\n",
        "plt.ylabel('Average Sensitivity')\n",
        "plt.legend()\n",
        "\n",
        "plt.tight_layout()\n",
        "plt.show()\n",
        "\n",
        "# Print numerical results\n",
        "print(\"\\nNumerical Results:\")\n",
        "print(\"\\nDigit 1 Regional Sensitivity:\")\n",
        "for region, value in regions_1.items():\n",
        "  print(f\"{region.capitalize()}: {value:.4f}\")\n",
        "print(\"\\nDigit 7 Regional Sensitivity:\")\n",
        "for region, value in regions_7.items():\n",
        "  print(f\"{region.capitalize()}: {value:.4f}\")\n",
        "\n",
        "# Statistical analysis\n",
        "from scipy import stats\n",
        "\n",
        "t_stat, p_value = stats.ttest_ind(\n",
        "    saliency_1.flatten(),\n",
        "    saliency_7.flatten()\n",
        "    )\n",
        "\n",
        "print(f\"\\nStatistical Analysis:\")\n",
        "print(f\"t-statistic: {t_stat:.4f}\")\n",
        "print(f\"p-value: {p_value:.4f}\")"
      ],
      "metadata": {
        "id": "2p6bsY6W_Fqc",
        "outputId": "2890fbbc-a1dc-4f78-ce79-47a7ca814707",
        "colab": {
          "base_uri": "https://localhost:8080/",
          "height": 747
        }
      },
      "execution_count": 23,
      "outputs": [
        {
          "output_type": "display_data",
          "data": {
            "text/plain": [
              "<Figure size 1500x500 with 7 Axes>"
            ],
            "image/png": "[encoded data removed]"
          },
          "metadata": {}
        },
        {
          "output_type": "stream",
          "name": "stdout",
          "text": [
            "\n",
            "Numerical Results:\n",
            "\n",
            "Digit 1 Regional Sensitivity:\n",
            "Top: 0.0001\n",
            "Middle: 0.0211\n",
            "Bottom: 0.0035\n",
            "\n",
            "Digit 7 Regional Sensitivity:\n",
            "Top: 0.0002\n",
            "Middle: 0.0016\n",
            "Bottom: 0.0098\n",
            "\n",
            "Statistical Analysis:\n",
            "t-statistic: 2.8836\n",
            "p-value: 0.0040\n"
          ]
        }
      ]
    }
  ]
}